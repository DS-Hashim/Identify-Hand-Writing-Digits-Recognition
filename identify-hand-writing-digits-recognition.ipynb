{
 "cells": [
  {
   "cell_type": "markdown",
   "metadata": {
    "papermill": {
     "duration": 0.01757,
     "end_time": "2020-10-23T15:39:20.151798",
     "exception": false,
     "start_time": "2020-10-23T15:39:20.134228",
     "status": "completed"
    },
    "tags": []
   },
   "source": [
    "## The Digit Dataset\n",
    "This dataset is made up of 1797 8x8 images. Each image, like the one shown below, is of a hand-written digit. In order to utilize an 8x8 figure like this, we’d have to first transform it into a feature vector with length 64.\n",
    "\n",
    "Link: https://scikit-learn.org/stable/auto_examples/datasets/plot_digits_last_image.html"
   ]
  },
  {
   "cell_type": "code",
   "execution_count": 1,
   "metadata": {
    "_cell_guid": "b1076dfc-b9ad-4769-8c92-a6c4dae69d19",
    "_uuid": "8f2839f25d086af736a60e9eeb907d3b93b6e0e5",
    "execution": {
     "iopub.execute_input": "2020-10-23T15:39:20.193713Z",
     "iopub.status.busy": "2020-10-23T15:39:20.192916Z",
     "iopub.status.idle": "2020-10-23T15:39:21.452018Z",
     "shell.execute_reply": "2020-10-23T15:39:21.451087Z"
    },
    "papermill": {
     "duration": 1.283678,
     "end_time": "2020-10-23T15:39:21.452178",
     "exception": false,
     "start_time": "2020-10-23T15:39:20.168500",
     "status": "completed"
    },
    "tags": []
   },
   "outputs": [],
   "source": [
    "#import libraries\n",
    "import matplotlib.pyplot as plt\n",
    "%matplotlib inline\n",
    "from sklearn.datasets import load_digits"
   ]
  },
  {
   "cell_type": "code",
   "execution_count": 2,
   "metadata": {
    "_cell_guid": "79c7e3d0-c299-4dcb-8224-4455121ee9b0",
    "_uuid": "d629ff2d2480ee46fbb7e2d37f6b5fab8052498a",
    "execution": {
     "iopub.execute_input": "2020-10-23T15:39:21.491581Z",
     "iopub.status.busy": "2020-10-23T15:39:21.490827Z",
     "iopub.status.idle": "2020-10-23T15:39:21.618192Z",
     "shell.execute_reply": "2020-10-23T15:39:21.618860Z"
    },
    "papermill": {
     "duration": 0.14961,
     "end_time": "2020-10-23T15:39:21.619027",
     "exception": false,
     "start_time": "2020-10-23T15:39:21.469417",
     "status": "completed"
    },
    "tags": []
   },
   "outputs": [],
   "source": [
    "digits = load_digits()"
   ]
  },
  {
   "cell_type": "code",
   "execution_count": 3,
   "metadata": {
    "execution": {
     "iopub.execute_input": "2020-10-23T15:39:21.662194Z",
     "iopub.status.busy": "2020-10-23T15:39:21.661350Z",
     "iopub.status.idle": "2020-10-23T15:39:21.666134Z",
     "shell.execute_reply": "2020-10-23T15:39:21.665399Z"
    },
    "papermill": {
     "duration": 0.028493,
     "end_time": "2020-10-23T15:39:21.666260",
     "exception": false,
     "start_time": "2020-10-23T15:39:21.637767",
     "status": "completed"
    },
    "tags": []
   },
   "outputs": [
    {
     "data": {
      "text/plain": [
       "['DESCR', 'data', 'feature_names', 'frame', 'images', 'target', 'target_names']"
      ]
     },
     "execution_count": 3,
     "metadata": {},
     "output_type": "execute_result"
    }
   ],
   "source": [
    "dir(digits)"
   ]
  },
  {
   "cell_type": "code",
   "execution_count": 4,
   "metadata": {
    "execution": {
     "iopub.execute_input": "2020-10-23T15:39:21.709367Z",
     "iopub.status.busy": "2020-10-23T15:39:21.708209Z",
     "iopub.status.idle": "2020-10-23T15:39:21.713227Z",
     "shell.execute_reply": "2020-10-23T15:39:21.712593Z"
    },
    "papermill": {
     "duration": 0.029249,
     "end_time": "2020-10-23T15:39:21.713364",
     "exception": false,
     "start_time": "2020-10-23T15:39:21.684115",
     "status": "completed"
    },
    "tags": []
   },
   "outputs": [
    {
     "data": {
      "text/plain": [
       "array([ 0.,  0.,  5., 13.,  9.,  1.,  0.,  0.,  0.,  0., 13., 15., 10.,\n",
       "       15.,  5.,  0.,  0.,  3., 15.,  2.,  0., 11.,  8.,  0.,  0.,  4.,\n",
       "       12.,  0.,  0.,  8.,  8.,  0.,  0.,  5.,  8.,  0.,  0.,  9.,  8.,\n",
       "        0.,  0.,  4., 11.,  0.,  1., 12.,  7.,  0.,  0.,  2., 14.,  5.,\n",
       "       10., 12.,  0.,  0.,  0.,  0.,  6., 13., 10.,  0.,  0.,  0.])"
      ]
     },
     "execution_count": 4,
     "metadata": {},
     "output_type": "execute_result"
    }
   ],
   "source": [
    "digits.data[0]"
   ]
  },
  {
   "cell_type": "code",
   "execution_count": 5,
   "metadata": {
    "execution": {
     "iopub.execute_input": "2020-10-23T15:39:21.756047Z",
     "iopub.status.busy": "2020-10-23T15:39:21.755229Z",
     "iopub.status.idle": "2020-10-23T15:39:22.570971Z",
     "shell.execute_reply": "2020-10-23T15:39:22.570296Z"
    },
    "papermill": {
     "duration": 0.839535,
     "end_time": "2020-10-23T15:39:22.571114",
     "exception": false,
     "start_time": "2020-10-23T15:39:21.731579",
     "status": "completed"
    },
    "tags": []
   },
   "outputs": [
    {
     "data": {
      "text/plain": [
       "<Figure size 432x288 with 0 Axes>"
      ]
     },
     "metadata": {},
     "output_type": "display_data"
    },
    {
     "data": {
      "image/png": "[encoded data removed]",
      "text/plain": [
       "<Figure size 288x288 with 1 Axes>"
      ]
     },
     "metadata": {
      "needs_background": "light"
     },
     "output_type": "display_data"
    },
    {
     "data": {
      "image/png": "[encoded data removed]",
      "text/plain": [
       "<Figure size 288x288 with 1 Axes>"
      ]
     },
     "metadata": {
      "needs_background": "light"
     },
     "output_type": "display_data"
    },
    {
     "data": {
      "image/png": "[encoded data removed]",
      "text/plain": [
       "<Figure size 288x288 with 1 Axes>"
      ]
     },
     "metadata": {
      "needs_background": "light"
     },
     "output_type": "display_data"
    },
    {
     "data": {
      "image/png": "[encoded data removed]",
      "text/plain": [
       "<Figure size 288x288 with 1 Axes>"
      ]
     },
     "metadata": {
      "needs_background": "light"
     },
     "output_type": "display_data"
    },
    {
     "data": {
      "image/png": "[encoded data removed]",
      "text/plain": [
       "<Figure size 288x288 with 1 Axes>"
      ]
     },
     "metadata": {
      "needs_background": "light"
     },
     "output_type": "display_data"
    }
   ],
   "source": [
    "plt.gray()\n",
    "for i in range(5):\n",
    "    plt.matshow(digits.images[i])"
   ]
  },
  {
   "cell_type": "code",
   "execution_count": 6,
   "metadata": {
    "execution": {
     "iopub.execute_input": "2020-10-23T15:39:22.623170Z",
     "iopub.status.busy": "2020-10-23T15:39:22.622126Z",
     "iopub.status.idle": "2020-10-23T15:39:22.627574Z",
     "shell.execute_reply": "2020-10-23T15:39:22.626862Z"
    },
    "papermill": {
     "duration": 0.033919,
     "end_time": "2020-10-23T15:39:22.627762",
     "exception": false,
     "start_time": "2020-10-23T15:39:22.593843",
     "status": "completed"
    },
    "tags": []
   },
   "outputs": [
    {
     "data": {
      "text/plain": [
       "array([0, 1, 2, 3, 4])"
      ]
     },
     "execution_count": 6,
     "metadata": {},
     "output_type": "execute_result"
    }
   ],
   "source": [
    "digits.target[0:5]"
   ]
  },
  {
   "cell_type": "code",
   "execution_count": 7,
   "metadata": {
    "execution": {
     "iopub.execute_input": "2020-10-23T15:39:22.685218Z",
     "iopub.status.busy": "2020-10-23T15:39:22.684325Z",
     "iopub.status.idle": "2020-10-23T15:39:22.750823Z",
     "shell.execute_reply": "2020-10-23T15:39:22.750060Z"
    },
    "papermill": {
     "duration": 0.097216,
     "end_time": "2020-10-23T15:39:22.750960",
     "exception": false,
     "start_time": "2020-10-23T15:39:22.653744",
     "status": "completed"
    },
    "tags": []
   },
   "outputs": [],
   "source": [
    "#import library\n",
    "from sklearn.model_selection import train_test_split"
   ]
  },
  {
   "cell_type": "code",
   "execution_count": 8,
   "metadata": {
    "execution": {
     "iopub.execute_input": "2020-10-23T15:39:22.804162Z",
     "iopub.status.busy": "2020-10-23T15:39:22.803325Z",
     "iopub.status.idle": "2020-10-23T15:39:22.807050Z",
     "shell.execute_reply": "2020-10-23T15:39:22.806296Z"
    },
    "papermill": {
     "duration": 0.032889,
     "end_time": "2020-10-23T15:39:22.807179",
     "exception": false,
     "start_time": "2020-10-23T15:39:22.774290",
     "status": "completed"
    },
    "tags": []
   },
   "outputs": [],
   "source": [
    "x_train, x_test, y_train, y_test = train_test_split(digits.data, digits.target, test_size = 0.2)"
   ]
  },
  {
   "cell_type": "code",
   "execution_count": 9,
   "metadata": {
    "execution": {
     "iopub.execute_input": "2020-10-23T15:39:22.861296Z",
     "iopub.status.busy": "2020-10-23T15:39:22.860374Z",
     "iopub.status.idle": "2020-10-23T15:39:22.864520Z",
     "shell.execute_reply": "2020-10-23T15:39:22.865183Z"
    },
    "papermill": {
     "duration": 0.033843,
     "end_time": "2020-10-23T15:39:22.865352",
     "exception": false,
     "start_time": "2020-10-23T15:39:22.831509",
     "status": "completed"
    },
    "tags": []
   },
   "outputs": [
    {
     "data": {
      "text/plain": [
       "1437"
      ]
     },
     "execution_count": 9,
     "metadata": {},
     "output_type": "execute_result"
    }
   ],
   "source": [
    "len(x_train)"
   ]
  },
  {
   "cell_type": "code",
   "execution_count": 10,
   "metadata": {
    "execution": {
     "iopub.execute_input": "2020-10-23T15:39:22.918999Z",
     "iopub.status.busy": "2020-10-23T15:39:22.917980Z",
     "iopub.status.idle": "2020-10-23T15:39:22.922639Z",
     "shell.execute_reply": "2020-10-23T15:39:22.923163Z"
    },
    "papermill": {
     "duration": 0.034038,
     "end_time": "2020-10-23T15:39:22.923344",
     "exception": false,
     "start_time": "2020-10-23T15:39:22.889306",
     "status": "completed"
    },
    "tags": []
   },
   "outputs": [
    {
     "data": {
      "text/plain": [
       "360"
      ]
     },
     "execution_count": 10,
     "metadata": {},
     "output_type": "execute_result"
    }
   ],
   "source": [
    "len(x_test)"
   ]
  },
  {
   "cell_type": "code",
   "execution_count": 11,
   "metadata": {
    "execution": {
     "iopub.execute_input": "2020-10-23T15:39:22.978751Z",
     "iopub.status.busy": "2020-10-23T15:39:22.977910Z",
     "iopub.status.idle": "2020-10-23T15:39:23.093985Z",
     "shell.execute_reply": "2020-10-23T15:39:23.093262Z"
    },
    "papermill": {
     "duration": 0.146256,
     "end_time": "2020-10-23T15:39:23.094138",
     "exception": false,
     "start_time": "2020-10-23T15:39:22.947882",
     "status": "completed"
    },
    "tags": []
   },
   "outputs": [],
   "source": [
    "#import library\n",
    "from sklearn.linear_model import LogisticRegression\n",
    "model = LogisticRegression()"
   ]
  },
  {
   "cell_type": "code",
   "execution_count": 12,
   "metadata": {
    "execution": {
     "iopub.execute_input": "2020-10-23T15:39:23.150851Z",
     "iopub.status.busy": "2020-10-23T15:39:23.150011Z",
     "iopub.status.idle": "2020-10-23T15:39:23.393509Z",
     "shell.execute_reply": "2020-10-23T15:39:23.394983Z"
    },
    "papermill": {
     "duration": 0.275352,
     "end_time": "2020-10-23T15:39:23.395164",
     "exception": false,
     "start_time": "2020-10-23T15:39:23.119812",
     "status": "completed"
    },
    "tags": []
   },
   "outputs": [
    {
     "name": "stderr",
     "output_type": "stream",
     "text": [
      "/opt/conda/lib/python3.7/site-packages/sklearn/linear_model/_logistic.py:764: ConvergenceWarning: lbfgs failed to converge (status=1):\n",
      "STOP: TOTAL NO. of ITERATIONS REACHED LIMIT.\n",
      "\n",
      "Increase the number of iterations (max_iter) or scale the data as shown in:\n",
      "    https://scikit-learn.org/stable/modules/preprocessing.html\n",
      "Please also refer to the documentation for alternative solver options:\n",
      "    https://scikit-learn.org/stable/modules/linear_model.html#logistic-regression\n",
      "  extra_warning_msg=_LOGISTIC_SOLVER_CONVERGENCE_MSG)\n"
     ]
    },
    {
     "data": {
      "text/plain": [
       "LogisticRegression()"
      ]
     },
     "execution_count": 12,
     "metadata": {},
     "output_type": "execute_result"
    }
   ],
   "source": [
    "model.fit(x_train, y_train)"
   ]
  },
  {
   "cell_type": "code",
   "execution_count": 13,
   "metadata": {
    "execution": {
     "iopub.execute_input": "2020-10-23T15:39:23.470227Z",
     "iopub.status.busy": "2020-10-23T15:39:23.469155Z",
     "iopub.status.idle": "2020-10-23T15:39:23.476063Z",
     "shell.execute_reply": "2020-10-23T15:39:23.477046Z"
    },
    "papermill": {
     "duration": 0.052028,
     "end_time": "2020-10-23T15:39:23.477227",
     "exception": false,
     "start_time": "2020-10-23T15:39:23.425199",
     "status": "completed"
    },
    "tags": []
   },
   "outputs": [
    {
     "data": {
      "text/plain": [
       "0.9694444444444444"
      ]
     },
     "execution_count": 13,
     "metadata": {},
     "output_type": "execute_result"
    }
   ],
   "source": [
    "model.score(x_test, y_test) #accuracy"
   ]
  },
  {
   "cell_type": "code",
   "execution_count": 14,
   "metadata": {
    "execution": {
     "iopub.execute_input": "2020-10-23T15:39:23.635681Z",
     "iopub.status.busy": "2020-10-23T15:39:23.634443Z",
     "iopub.status.idle": "2020-10-23T15:39:23.781215Z",
     "shell.execute_reply": "2020-10-23T15:39:23.780482Z"
    },
    "papermill": {
     "duration": 0.275643,
     "end_time": "2020-10-23T15:39:23.781360",
     "exception": false,
     "start_time": "2020-10-23T15:39:23.505717",
     "status": "completed"
    },
    "tags": []
   },
   "outputs": [
    {
     "data": {
      "text/plain": [
       "<matplotlib.image.AxesImage at 0x7f908a48a990>"
      ]
     },
     "execution_count": 14,
     "metadata": {},
     "output_type": "execute_result"
    },
    {
     "data": {
      "image/png": "[encoded data removed]",
      "text/plain": [
       "<Figure size 288x288 with 1 Axes>"
      ]
     },
     "metadata": {
      "needs_background": "light"
     },
     "output_type": "display_data"
    }
   ],
   "source": [
    "plt.matshow(digits.images[67])"
   ]
  },
  {
   "cell_type": "code",
   "execution_count": 15,
   "metadata": {
    "execution": {
     "iopub.execute_input": "2020-10-23T15:39:23.848089Z",
     "iopub.status.busy": "2020-10-23T15:39:23.847107Z",
     "iopub.status.idle": "2020-10-23T15:39:23.852131Z",
     "shell.execute_reply": "2020-10-23T15:39:23.851394Z"
    },
    "papermill": {
     "duration": 0.040045,
     "end_time": "2020-10-23T15:39:23.852258",
     "exception": false,
     "start_time": "2020-10-23T15:39:23.812213",
     "status": "completed"
    },
    "tags": []
   },
   "outputs": [
    {
     "data": {
      "text/plain": [
       "6"
      ]
     },
     "execution_count": 15,
     "metadata": {},
     "output_type": "execute_result"
    }
   ],
   "source": [
    "digits.target[67]"
   ]
  },
  {
   "cell_type": "code",
   "execution_count": 16,
   "metadata": {
    "execution": {
     "iopub.execute_input": "2020-10-23T15:39:23.916305Z",
     "iopub.status.busy": "2020-10-23T15:39:23.915182Z",
     "iopub.status.idle": "2020-10-23T15:39:23.920338Z",
     "shell.execute_reply": "2020-10-23T15:39:23.919569Z"
    },
    "papermill": {
     "duration": 0.040065,
     "end_time": "2020-10-23T15:39:23.920470",
     "exception": false,
     "start_time": "2020-10-23T15:39:23.880405",
     "status": "completed"
    },
    "tags": []
   },
   "outputs": [
    {
     "data": {
      "text/plain": [
       "array([6])"
      ]
     },
     "execution_count": 16,
     "metadata": {},
     "output_type": "execute_result"
    }
   ],
   "source": [
    "model.predict([digits.data[67]])"
   ]
  },
  {
   "cell_type": "code",
   "execution_count": 17,
   "metadata": {
    "execution": {
     "iopub.execute_input": "2020-10-23T15:39:23.986874Z",
     "iopub.status.busy": "2020-10-23T15:39:23.986014Z",
     "iopub.status.idle": "2020-10-23T15:39:23.990365Z",
     "shell.execute_reply": "2020-10-23T15:39:23.989697Z"
    },
    "papermill": {
     "duration": 0.040952,
     "end_time": "2020-10-23T15:39:23.990492",
     "exception": false,
     "start_time": "2020-10-23T15:39:23.949540",
     "status": "completed"
    },
    "tags": []
   },
   "outputs": [
    {
     "data": {
      "text/plain": [
       "array([0, 1, 2, 3, 4])"
      ]
     },
     "execution_count": 17,
     "metadata": {},
     "output_type": "execute_result"
    }
   ],
   "source": [
    "model.predict(digits.data[0:5])"
   ]
  },
  {
   "cell_type": "code",
   "execution_count": 18,
   "metadata": {
    "execution": {
     "iopub.execute_input": "2020-10-23T15:39:24.057155Z",
     "iopub.status.busy": "2020-10-23T15:39:24.056166Z",
     "iopub.status.idle": "2020-10-23T15:39:24.065426Z",
     "shell.execute_reply": "2020-10-23T15:39:24.064430Z"
    },
    "papermill": {
     "duration": 0.045555,
     "end_time": "2020-10-23T15:39:24.065593",
     "exception": false,
     "start_time": "2020-10-23T15:39:24.020038",
     "status": "completed"
    },
    "tags": []
   },
   "outputs": [
    {
     "data": {
      "text/plain": [
       "array([[33,  0,  0,  0,  0,  0,  0,  0,  0,  0],\n",
       "       [ 0, 36,  0,  0,  0,  0,  0,  0,  1,  0],\n",
       "       [ 0,  1, 33,  0,  0,  0,  0,  0,  0,  0],\n",
       "       [ 0,  0,  1, 35,  0,  0,  0,  0,  0,  0],\n",
       "       [ 0,  0,  0,  0, 36,  0,  0,  0,  0,  0],\n",
       "       [ 0,  0,  0,  0,  1, 40,  0,  0,  0,  3],\n",
       "       [ 0,  0,  0,  0,  0,  0, 32,  0,  0,  0],\n",
       "       [ 0,  0,  0,  0,  0,  0,  0, 39,  0,  0],\n",
       "       [ 0,  0,  1,  0,  0,  0,  0,  0, 31,  0],\n",
       "       [ 0,  0,  0,  0,  0,  1,  0,  0,  2, 34]])"
      ]
     },
     "execution_count": 18,
     "metadata": {},
     "output_type": "execute_result"
    }
   ],
   "source": [
    "#import library\n",
    "#confusion matrix\n",
    "y_predicted = model.predict(x_test)\n",
    "from sklearn.metrics import confusion_matrix\n",
    "\n",
    "cm = confusion_matrix(y_test, y_predicted)\n",
    "cm"
   ]
  },
  {
   "cell_type": "code",
   "execution_count": 19,
   "metadata": {
    "execution": {
     "iopub.execute_input": "2020-10-23T15:39:24.149653Z",
     "iopub.status.busy": "2020-10-23T15:39:24.148568Z",
     "iopub.status.idle": "2020-10-23T15:39:24.961574Z",
     "shell.execute_reply": "2020-10-23T15:39:24.960708Z"
    },
    "papermill": {
     "duration": 0.859373,
     "end_time": "2020-10-23T15:39:24.961745",
     "exception": false,
     "start_time": "2020-10-23T15:39:24.102372",
     "status": "completed"
    },
    "tags": []
   },
   "outputs": [
    {
     "data": {
      "text/plain": [
       "Text(69.0, 0.5, 'Truth')"
      ]
     },
     "execution_count": 19,
     "metadata": {},
     "output_type": "execute_result"
    },
    {
     "data": {
      "image/png": "[encoded data removed]",
      "text/plain": [
       "<Figure size 720x504 with 2 Axes>"
      ]
     },
     "metadata": {
      "needs_background": "light"
     },
     "output_type": "display_data"
    }
   ],
   "source": [
    "#visualization\n",
    "#import library\n",
    "import seaborn as sns\n",
    "plt.figure(figsize = (10,7))\n",
    "sns.heatmap(cm, annot = True)\n",
    "plt.xlabel('Predicted')\n",
    "plt.ylabel('Truth')"
   ]
  },
  {
   "cell_type": "code",
   "execution_count": null,
   "metadata": {
    "papermill": {
     "duration": 0.0324,
     "end_time": "2020-10-23T15:39:25.030238",
     "exception": false,
     "start_time": "2020-10-23T15:39:24.997838",
     "status": "completed"
    },
    "tags": []
   },
   "outputs": [],
   "source": []
  }
 ],
 "metadata": {
  "kernelspec": {
   "display_name": "Python 3",
   "language": "python",
   "name": "python3"
  },
  "language_info": {
   "codemirror_mode": {
    "name": "ipython",
    "version": 3
   },
   "file_extension": ".py",
   "mimetype": "text/x-python",
   "name": "python",
   "nbconvert_exporter": "python",
   "pygments_lexer": "ipython3",
   "version": "3.7.6"
  },
  "papermill": {
   "duration": 10.48411,
   "end_time": "2020-10-23T15:39:25.170431",
   "environment_variables": {},
   "exception": null,
   "input_path": "__notebook__.ipynb",
   "output_path": "__notebook__.ipynb",
   "parameters": {},
   "start_time": "2020-10-23T15:39:14.686321",
   "version": "2.1.0"
  }
 },
 "nbformat": 4,
 "nbformat_minor": 4
}
